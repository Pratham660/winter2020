{
 "cells": [
  {
   "cell_type": "code",
   "execution_count": 3,
   "metadata": {},
   "outputs": [
    {
     "output_type": "stream",
     "name": "stdout",
     "text": [
      "    9       qq.com\n0  11   taobao.com\n1  12  twitter.com\n2  15       vk.com\n3  16     live.com\n4  21    weibo.com\n"
     ]
    }
   ],
   "source": [
    "import pandas as pd\n",
    "\n",
    "url = 'https://raw.githubusercontent.com/usama6naseer/largest_object/master/log.csv'\n",
    "\n",
    "def return_df(url):\n",
    "    if url.endswith('.csv'):\n",
    "        d = pd.read_csv(url)\n",
    "        return d\n",
    "    else:\n",
    "        raise Exception('URL not in .csv format !!')\n",
    "        \n",
    "df=return_df(url)\n",
    "print(df.head(5))"
   ]
  },
  {
   "cell_type": "code",
   "execution_count": null,
   "metadata": {},
   "outputs": [],
   "source": []
  }
 ],
 "metadata": {
  "kernelspec": {
   "display_name": "Python 3",
   "language": "python",
   "name": "python3"
  },
  "language_info": {
   "codemirror_mode": {
    "name": "ipython",
    "version": 3
   },
   "file_extension": ".py",
   "mimetype": "text/x-python",
   "name": "python",
   "nbconvert_exporter": "python",
   "pygments_lexer": "ipython3",
   "version": "3.8.5-final"
  }
 },
 "nbformat": 4,
 "nbformat_minor": 4
}